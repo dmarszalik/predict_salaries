{
 "cells": [
  {
   "cell_type": "code",
   "execution_count": 4,
   "id": "24324a87",
   "metadata": {},
   "outputs": [],
   "source": [
    "import requests\n",
    "import pandas as pd\n",
    "import json\n",
    "import ast"
   ]
  },
  {
   "cell_type": "code",
   "execution_count": 5,
   "id": "e6749389",
   "metadata": {},
   "outputs": [],
   "source": [
    "url = 'https://justjoin.it/api/offers'"
   ]
  },
  {
   "cell_type": "code",
   "execution_count": 6,
   "id": "f31f75dc",
   "metadata": {},
   "outputs": [
    {
     "ename": "NameError",
     "evalue": "name 'url' is not defined",
     "output_type": "error",
     "traceback": [
      "\u001b[0;31m---------------------------------------------------------------------------\u001b[0m",
      "\u001b[0;31mNameError\u001b[0m                                 Traceback (most recent call last)",
      "Cell \u001b[0;32mIn[6], line 1\u001b[0m\n\u001b[0;32m----> 1\u001b[0m response \u001b[38;5;241m=\u001b[39m requests\u001b[38;5;241m.\u001b[39mget(\u001b[43murl\u001b[49m)\n",
      "\u001b[0;31mNameError\u001b[0m: name 'url' is not defined"
     ]
    }
   ],
   "source": [
    "response = requests.get(url)"
   ]
  },
  {
   "cell_type": "code",
   "execution_count": null,
   "id": "f7f6826c",
   "metadata": {},
   "outputs": [],
   "source": [
    "json_obj = response.json()"
   ]
  },
  {
   "cell_type": "code",
   "execution_count": null,
   "id": "d989ac67",
   "metadata": {},
   "outputs": [],
   "source": [
    "initial_df = pd.json_normalize(json_obj)"
   ]
  },
  {
   "cell_type": "code",
   "execution_count": null,
   "id": "302cbbbf",
   "metadata": {},
   "outputs": [],
   "source": [
    "initial_df.drop(columns=['street','address_text','company_url','latitude', 'longitude','open_to_hire_ukrainians','company_logo_url','multilocation'], inplace=True)\n",
    "initial_df.head()"
   ]
  },
  {
   "cell_type": "code",
   "execution_count": null,
   "id": "1a88c083",
   "metadata": {},
   "outputs": [],
   "source": [
    "initial_df = initial_df.join(initial_df['employment_types'].explode().apply(pd.Series)).join(initial_df['skills'].explode().apply(pd.Series))\n",
    "df_skills = initial_df.drop(columns=['employment_types', 'skills'])\n",
    "df_skills"
   ]
  },
  {
   "cell_type": "code",
   "execution_count": null,
   "id": "ae37f19e",
   "metadata": {},
   "outputs": [],
   "source": [
    "df_skills.index = range(0, len(df_skills))"
   ]
  },
  {
   "cell_type": "code",
   "execution_count": null,
   "id": "a06cb8db",
   "metadata": {},
   "outputs": [],
   "source": [
    "df_salary = pd.json_normalize(initial_df['salary'])\n",
    "df_salary"
   ]
  },
  {
   "cell_type": "code",
   "execution_count": null,
   "id": "a8052fd4",
   "metadata": {},
   "outputs": [],
   "source": [
    "df = pd.merge(df_skills.drop(columns='salary'), df_salary, left_index=True, right_index=True)\n",
    "df"
   ]
  },
  {
   "cell_type": "code",
   "execution_count": null,
   "id": "52a0dc68",
   "metadata": {},
   "outputs": [],
   "source": [
    "df.rename(columns={\"type\":'employment_type',\"name\": \"skill\", \"from\": \"salary_from\",\"to\": \"salary_to\"})"
   ]
  },
  {
   "cell_type": "code",
   "execution_count": null,
   "id": "384caff9",
   "metadata": {},
   "outputs": [],
   "source": [
    "df.head()"
   ]
  },
  {
   "cell_type": "code",
   "execution_count": null,
   "id": "6a74829f",
   "metadata": {},
   "outputs": [],
   "source": []
  }
 ],
 "metadata": {
  "kernelspec": {
   "display_name": "Python 3 (ipykernel)",
   "language": "python",
   "name": "python3"
  },
  "language_info": {
   "codemirror_mode": {
    "name": "ipython",
    "version": 3
   },
   "file_extension": ".py",
   "mimetype": "text/x-python",
   "name": "python",
   "nbconvert_exporter": "python",
   "pygments_lexer": "ipython3",
   "version": "3.10.9"
  }
 },
 "nbformat": 4,
 "nbformat_minor": 5
}
