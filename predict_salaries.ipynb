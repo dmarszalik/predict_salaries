{
 "cells": [
  {
   "cell_type": "code",
   "execution_count": 2,
   "metadata": {
    "id": "ocg1mRRkKsk8"
   },
   "outputs": [],
   "source": [
    "import requests\n",
    "import pandas as pd\n"
   ]
  },
  {
   "cell_type": "code",
   "execution_count": 3,
   "metadata": {
    "id": "ssIXBn77ShHp"
   },
   "outputs": [],
   "source": [
    "url = 'https://justjoin.it/api/offers'"
   ]
  },
  {
   "cell_type": "code",
   "execution_count": 4,
   "metadata": {
    "id": "OjDOPUl1Sihx"
   },
   "outputs": [],
   "source": [
    "response = requests.get(url)\n",
    "content = response.json()"
   ]
  },
  {
   "cell_type": "code",
   "execution_count": 5,
   "metadata": {
    "colab": {
     "base_uri": "https://localhost:8080/"
    },
    "id": "Z4aXWZ2xSp6R",
    "outputId": "3b3aaadc-3614-4927-e497-4284384bea8b"
   },
   "outputs": [
    {
     "data": {
      "text/plain": [
       "[{'title': 'Architekt Systemowy Aplikacji IT',\n",
       "  'street': 'Chmielna 89',\n",
       "  'city': 'Warszawa',\n",
       "  'country_code': 'PL',\n",
       "  'address_text': 'Chmielna 89, Warszawa',\n",
       "  'marker_icon': 'architecture',\n",
       "  'workplace_type': 'partly_remote',\n",
       "  'company_name': 'PKO Bank Polski',\n",
       "  'company_url': 'https://www.pkobp.pl/kariera/',\n",
       "  'company_size': '22000',\n",
       "  'experience_level': 'senior',\n",
       "  'latitude': '52.2269597',\n",
       "  'longitude': '20.9921147',\n",
       "  'published_at': '2023-07-19T19:21:55.256Z',\n",
       "  'remote_interview': True,\n",
       "  'open_to_hire_ukrainians': False,\n",
       "  'id': 'pko-bank-polski-architekt-systemowy-aplikacji-it',\n",
       "  'display_offer': True,\n",
       "  'employment_types': [{'type': 'permanent', 'salary': None}],\n",
       "  'company_logo_url': 'https://bucket.justjoin.it/offers/company_logos/thumb/c1ad0124d914aea501dafca15937ad200f1b9e78.png?1689794456',\n",
       "  'skills': [{'name': 'RabbitMQ', 'level': 2},\n",
       "   {'name': 'Ansible', 'level': 2},\n",
       "   {'name': 'OpenShift', 'level': 2}],\n",
       "  'remote': False,\n",
       "  'multilocation': [{'city': 'Warszawa',\n",
       "    'street': 'Chmielna 89',\n",
       "    'slug': 'pko-bank-polski-architekt-systemowy-aplikacji-it'}],\n",
       "  'way_of_apply': 'redirect'},\n",
       " {'title': 'Junior .Net Developer',\n",
       "  'street': 'ul. Józefa Sarego',\n",
       "  'city': 'Kraków',\n",
       "  'country_code': 'PL',\n",
       "  'address_text': 'ul. Józefa Sarego, Kraków',\n",
       "  'marker_icon': 'net',\n",
       "  'workplace_type': 'partly_remote',\n",
       "  'company_name': 'Adrentech Polska Sp. z o.o',\n",
       "  'company_url': 'https://www.adrentech.com/',\n",
       "  'company_size': '50+',\n",
       "  'experience_level': 'junior',\n",
       "  'latitude': '50.0567669',\n",
       "  'longitude': '19.9427828',\n",
       "  'published_at': '2023-07-19T19:09:35.839Z',\n",
       "  'remote_interview': False,\n",
       "  'open_to_hire_ukrainians': False,\n",
       "  'id': 'adrenaline-technologies-ltd-net-developer',\n",
       "  'display_offer': True,\n",
       "  'employment_types': [{'type': 'b2b',\n",
       "    'salary': {'from': 8000, 'to': 12000, 'currency': 'pln'}}],\n",
       "  'company_logo_url': 'https://bucket.justjoin.it/offers/company_logos/thumb/3b55be4bb8889899c294d556311c2721d677a703.png?1689781554',\n",
       "  'skills': [{'name': 'MS SQL Server', 'level': 2},\n",
       "   {'name': 'C#', 'level': 2},\n",
       "   {'name': '.Net 4.5', 'level': 2}],\n",
       "  'remote': False,\n",
       "  'multilocation': [{'city': 'Kraków',\n",
       "    'street': 'ul. Józefa Sarego',\n",
       "    'slug': 'adrenaline-technologies-ltd-net-developer'}],\n",
       "  'way_of_apply': 'form'}]"
      ]
     },
     "execution_count": 5,
     "metadata": {},
     "output_type": "execute_result"
    }
   ],
   "source": [
    "content[0:2]"
   ]
  },
  {
   "cell_type": "code",
   "execution_count": 6,
   "metadata": {
    "id": "T6PvEVm1S7dy"
   },
   "outputs": [],
   "source": [
    "df = pd.DataFrame.from_records(content)"
   ]
  },
  {
   "cell_type": "code",
   "execution_count": 7,
   "metadata": {
    "id": "9Z2p2F44VLnJ"
   },
   "outputs": [],
   "source": [
    "df_emplyment_types = df['employment_types'].apply(pd.Series)"
   ]
  },
  {
   "cell_type": "code",
   "execution_count": 8,
   "metadata": {
    "colab": {
     "base_uri": "https://localhost:8080/",
     "height": 250
    },
    "id": "f6masTyUXokx",
    "outputId": "50dc1efd-b3b0-4432-9be3-0a76e2ba2f96"
   },
   "outputs": [
    {
     "data": {
      "text/html": [
       "<div>\n",
       "<style scoped>\n",
       "    .dataframe tbody tr th:only-of-type {\n",
       "        vertical-align: middle;\n",
       "    }\n",
       "\n",
       "    .dataframe tbody tr th {\n",
       "        vertical-align: top;\n",
       "    }\n",
       "\n",
       "    .dataframe thead th {\n",
       "        text-align: right;\n",
       "    }\n",
       "</style>\n",
       "<table border=\"1\" class=\"dataframe\">\n",
       "  <thead>\n",
       "    <tr style=\"text-align: right;\">\n",
       "      <th></th>\n",
       "      <th>0</th>\n",
       "      <th>1</th>\n",
       "    </tr>\n",
       "  </thead>\n",
       "  <tbody>\n",
       "    <tr>\n",
       "      <th>0</th>\n",
       "      <td>{'type': 'permanent', 'salary': None}</td>\n",
       "      <td>NaN</td>\n",
       "    </tr>\n",
       "    <tr>\n",
       "      <th>1</th>\n",
       "      <td>{'type': 'b2b', 'salary': {'from': 8000, 'to':...</td>\n",
       "      <td>NaN</td>\n",
       "    </tr>\n",
       "    <tr>\n",
       "      <th>2</th>\n",
       "      <td>{'type': 'permanent', 'salary': None}</td>\n",
       "      <td>NaN</td>\n",
       "    </tr>\n",
       "    <tr>\n",
       "      <th>3</th>\n",
       "      <td>{'type': 'b2b', 'salary': {'from': 25000, 'to'...</td>\n",
       "      <td>{'type': 'permanent', 'salary': {'from': 23000...</td>\n",
       "    </tr>\n",
       "    <tr>\n",
       "      <th>4</th>\n",
       "      <td>{'type': 'b2b', 'salary': {'from': 19800, 'to'...</td>\n",
       "      <td>{'type': 'permanent', 'salary': {'from': 18000...</td>\n",
       "    </tr>\n",
       "  </tbody>\n",
       "</table>\n",
       "</div>"
      ],
      "text/plain": [
       "                                                   0  \\\n",
       "0              {'type': 'permanent', 'salary': None}   \n",
       "1  {'type': 'b2b', 'salary': {'from': 8000, 'to':...   \n",
       "2              {'type': 'permanent', 'salary': None}   \n",
       "3  {'type': 'b2b', 'salary': {'from': 25000, 'to'...   \n",
       "4  {'type': 'b2b', 'salary': {'from': 19800, 'to'...   \n",
       "\n",
       "                                                   1  \n",
       "0                                                NaN  \n",
       "1                                                NaN  \n",
       "2                                                NaN  \n",
       "3  {'type': 'permanent', 'salary': {'from': 23000...  \n",
       "4  {'type': 'permanent', 'salary': {'from': 18000...  "
      ]
     },
     "execution_count": 8,
     "metadata": {},
     "output_type": "execute_result"
    }
   ],
   "source": [
    "df_emplyment_types.head()"
   ]
  },
  {
   "cell_type": "code",
   "execution_count": 9,
   "metadata": {
    "colab": {
     "base_uri": "https://localhost:8080/"
    },
    "id": "lYVNPahlYRkh",
    "outputId": "a48b7eec-15f7-4a52-ce3b-67b8def56eb2"
   },
   "outputs": [
    {
     "data": {
      "text/plain": [
       "dict"
      ]
     },
     "execution_count": 9,
     "metadata": {},
     "output_type": "execute_result"
    }
   ],
   "source": [
    "type(df_emplyment_types[0][0])"
   ]
  },
  {
   "cell_type": "code",
   "execution_count": 10,
   "metadata": {
    "colab": {
     "base_uri": "https://localhost:8080/"
    },
    "id": "BOAh1WVSj7_-",
    "outputId": "59afcdac-ca5f-4976-e602-e03e89aa382b"
   },
   "outputs": [
    {
     "data": {
      "text/plain": [
       "{'type': 'permanent', 'salary': None}"
      ]
     },
     "execution_count": 10,
     "metadata": {},
     "output_type": "execute_result"
    }
   ],
   "source": [
    "df_emplyment_types[0][0]"
   ]
  },
  {
   "cell_type": "code",
   "execution_count": 11,
   "metadata": {
    "id": "c7rStURBkHLh"
   },
   "outputs": [],
   "source": [
    "df_emplyment_types_l = df_emplyment_types[0].apply(pd.Series)"
   ]
  },
  {
   "cell_type": "code",
   "execution_count": 12,
   "metadata": {
    "colab": {
     "base_uri": "https://localhost:8080/",
     "height": 206
    },
    "id": "YD8E-tsMkMp-",
    "outputId": "7208ec03-06b5-4c8b-f67e-a312e87c2556"
   },
   "outputs": [
    {
     "data": {
      "text/html": [
       "<div>\n",
       "<style scoped>\n",
       "    .dataframe tbody tr th:only-of-type {\n",
       "        vertical-align: middle;\n",
       "    }\n",
       "\n",
       "    .dataframe tbody tr th {\n",
       "        vertical-align: top;\n",
       "    }\n",
       "\n",
       "    .dataframe thead th {\n",
       "        text-align: right;\n",
       "    }\n",
       "</style>\n",
       "<table border=\"1\" class=\"dataframe\">\n",
       "  <thead>\n",
       "    <tr style=\"text-align: right;\">\n",
       "      <th></th>\n",
       "      <th>type</th>\n",
       "      <th>salary</th>\n",
       "    </tr>\n",
       "  </thead>\n",
       "  <tbody>\n",
       "    <tr>\n",
       "      <th>0</th>\n",
       "      <td>permanent</td>\n",
       "      <td>None</td>\n",
       "    </tr>\n",
       "    <tr>\n",
       "      <th>1</th>\n",
       "      <td>b2b</td>\n",
       "      <td>{'from': 8000, 'to': 12000, 'currency': 'pln'}</td>\n",
       "    </tr>\n",
       "    <tr>\n",
       "      <th>2</th>\n",
       "      <td>permanent</td>\n",
       "      <td>None</td>\n",
       "    </tr>\n",
       "    <tr>\n",
       "      <th>3</th>\n",
       "      <td>b2b</td>\n",
       "      <td>{'from': 25000, 'to': 30000, 'currency': 'pln'}</td>\n",
       "    </tr>\n",
       "    <tr>\n",
       "      <th>4</th>\n",
       "      <td>b2b</td>\n",
       "      <td>{'from': 19800, 'to': 25300, 'currency': 'pln'}</td>\n",
       "    </tr>\n",
       "  </tbody>\n",
       "</table>\n",
       "</div>"
      ],
      "text/plain": [
       "        type                                           salary\n",
       "0  permanent                                             None\n",
       "1        b2b   {'from': 8000, 'to': 12000, 'currency': 'pln'}\n",
       "2  permanent                                             None\n",
       "3        b2b  {'from': 25000, 'to': 30000, 'currency': 'pln'}\n",
       "4        b2b  {'from': 19800, 'to': 25300, 'currency': 'pln'}"
      ]
     },
     "execution_count": 12,
     "metadata": {},
     "output_type": "execute_result"
    }
   ],
   "source": [
    "df_emplyment_types_l.head()"
   ]
  },
  {
   "cell_type": "code",
   "execution_count": 13,
   "metadata": {
    "colab": {
     "base_uri": "https://localhost:8080/"
    },
    "id": "kK8C1T8Vk9b2",
    "outputId": "91f44104-1aff-4887-e254-9abf9a1a2b53"
   },
   "outputs": [
    {
     "data": {
      "text/plain": [
       "Index(['type', 'salary'], dtype='object')"
      ]
     },
     "execution_count": 13,
     "metadata": {},
     "output_type": "execute_result"
    }
   ],
   "source": [
    "df_emplyment_types_l.columns"
   ]
  },
  {
   "cell_type": "code",
   "execution_count": 14,
   "metadata": {
    "colab": {
     "base_uri": "https://localhost:8080/"
    },
    "id": "TAIzmch3kp0A",
    "outputId": "de86a3b8-9594-4297-a4e8-6526d36632f6"
   },
   "outputs": [],
   "source": [
    "df_emplyment_types_l = pd.concat([df_emplyment_types_l.drop(['salary'], axis=1), df_emplyment_types_l['salary'].apply(pd.Series)], axis=1)"
   ]
  },
  {
   "cell_type": "code",
   "execution_count": 15,
   "metadata": {
    "colab": {
     "base_uri": "https://localhost:8080/",
     "height": 206
    },
    "id": "hZTrgPXhlTPN",
    "outputId": "73ae762a-11f2-4359-ed87-eb35e440687f"
   },
   "outputs": [
    {
     "data": {
      "text/html": [
       "<div>\n",
       "<style scoped>\n",
       "    .dataframe tbody tr th:only-of-type {\n",
       "        vertical-align: middle;\n",
       "    }\n",
       "\n",
       "    .dataframe tbody tr th {\n",
       "        vertical-align: top;\n",
       "    }\n",
       "\n",
       "    .dataframe thead th {\n",
       "        text-align: right;\n",
       "    }\n",
       "</style>\n",
       "<table border=\"1\" class=\"dataframe\">\n",
       "  <thead>\n",
       "    <tr style=\"text-align: right;\">\n",
       "      <th></th>\n",
       "      <th>type</th>\n",
       "      <th>from</th>\n",
       "      <th>to</th>\n",
       "      <th>currency</th>\n",
       "    </tr>\n",
       "  </thead>\n",
       "  <tbody>\n",
       "    <tr>\n",
       "      <th>0</th>\n",
       "      <td>permanent</td>\n",
       "      <td>NaN</td>\n",
       "      <td>NaN</td>\n",
       "      <td>NaN</td>\n",
       "    </tr>\n",
       "    <tr>\n",
       "      <th>1</th>\n",
       "      <td>b2b</td>\n",
       "      <td>8000.0</td>\n",
       "      <td>12000.0</td>\n",
       "      <td>pln</td>\n",
       "    </tr>\n",
       "    <tr>\n",
       "      <th>2</th>\n",
       "      <td>permanent</td>\n",
       "      <td>NaN</td>\n",
       "      <td>NaN</td>\n",
       "      <td>NaN</td>\n",
       "    </tr>\n",
       "    <tr>\n",
       "      <th>3</th>\n",
       "      <td>b2b</td>\n",
       "      <td>25000.0</td>\n",
       "      <td>30000.0</td>\n",
       "      <td>pln</td>\n",
       "    </tr>\n",
       "    <tr>\n",
       "      <th>4</th>\n",
       "      <td>b2b</td>\n",
       "      <td>19800.0</td>\n",
       "      <td>25300.0</td>\n",
       "      <td>pln</td>\n",
       "    </tr>\n",
       "  </tbody>\n",
       "</table>\n",
       "</div>"
      ],
      "text/plain": [
       "        type     from       to currency\n",
       "0  permanent      NaN      NaN      NaN\n",
       "1        b2b   8000.0  12000.0      pln\n",
       "2  permanent      NaN      NaN      NaN\n",
       "3        b2b  25000.0  30000.0      pln\n",
       "4        b2b  19800.0  25300.0      pln"
      ]
     },
     "execution_count": 15,
     "metadata": {},
     "output_type": "execute_result"
    }
   ],
   "source": [
    "df_emplyment_types_l.head()"
   ]
  },
  {
   "cell_type": "code",
   "execution_count": 16,
   "metadata": {
    "id": "0ltKS3bDlcA7"
   },
   "outputs": [],
   "source": [
    "df_emplyment_types_2 = df_emplyment_types[1].apply(pd.Series)"
   ]
  },
  {
   "cell_type": "code",
   "execution_count": 17,
   "metadata": {
    "colab": {
     "base_uri": "https://localhost:8080/"
    },
    "id": "1qRldZRYlhMe",
    "outputId": "efa61388-fc91-4ff6-a06e-b939412daca8"
   },
   "outputs": [],
   "source": [
    "df_emplyment_types_2 = pd.concat([df_emplyment_types_2.drop(['salary'], axis=1), df_emplyment_types_2['salary'].apply(pd.Series)], axis=1)"
   ]
  },
  {
   "cell_type": "code",
   "execution_count": null,
   "metadata": {
    "id": "a42L5srIlun5"
   },
   "outputs": [],
   "source": []
  },
  {
   "cell_type": "code",
   "execution_count": 18,
   "metadata": {
    "colab": {
     "base_uri": "https://localhost:8080/"
    },
    "id": "OuDKSeyAmTSD",
    "outputId": "408e4b33-057d-4063-9ab5-1f8d0af0fb7d"
   },
   "outputs": [
    {
     "name": "stdout",
     "output_type": "stream",
     "text": [
      "<class 'pandas.core.frame.DataFrame'>\n",
      "RangeIndex: 13267 entries, 0 to 13266\n",
      "Data columns (total 6 columns):\n",
      " #   Column    Non-Null Count  Dtype  \n",
      "---  ------    --------------  -----  \n",
      " 0   0         0 non-null      float64\n",
      " 1   type      3809 non-null   object \n",
      " 2   0         0 non-null      float64\n",
      " 3   from      2423 non-null   float64\n",
      " 4   to        2423 non-null   float64\n",
      " 5   currency  2423 non-null   object \n",
      "dtypes: float64(4), object(2)\n",
      "memory usage: 622.0+ KB\n"
     ]
    }
   ],
   "source": [
    "df_emplyment_types_2.info()"
   ]
  },
  {
   "cell_type": "code",
   "execution_count": 19,
   "metadata": {
    "id": "u-vkMNsZmWhR"
   },
   "outputs": [],
   "source": [
    "df_emplyment_types_2 = df_emplyment_types_2.drop([0], axis=1)"
   ]
  },
  {
   "cell_type": "code",
   "execution_count": 20,
   "metadata": {
    "colab": {
     "base_uri": "https://localhost:8080/",
     "height": 206
    },
    "id": "j9A6DTFumrQj",
    "outputId": "f5237a2e-bb88-4ab1-efe6-f544b6a4219a"
   },
   "outputs": [
    {
     "data": {
      "text/html": [
       "<div>\n",
       "<style scoped>\n",
       "    .dataframe tbody tr th:only-of-type {\n",
       "        vertical-align: middle;\n",
       "    }\n",
       "\n",
       "    .dataframe tbody tr th {\n",
       "        vertical-align: top;\n",
       "    }\n",
       "\n",
       "    .dataframe thead th {\n",
       "        text-align: right;\n",
       "    }\n",
       "</style>\n",
       "<table border=\"1\" class=\"dataframe\">\n",
       "  <thead>\n",
       "    <tr style=\"text-align: right;\">\n",
       "      <th></th>\n",
       "      <th>type</th>\n",
       "      <th>from</th>\n",
       "      <th>to</th>\n",
       "      <th>currency</th>\n",
       "    </tr>\n",
       "  </thead>\n",
       "  <tbody>\n",
       "    <tr>\n",
       "      <th>0</th>\n",
       "      <td>NaN</td>\n",
       "      <td>NaN</td>\n",
       "      <td>NaN</td>\n",
       "      <td>NaN</td>\n",
       "    </tr>\n",
       "    <tr>\n",
       "      <th>1</th>\n",
       "      <td>NaN</td>\n",
       "      <td>NaN</td>\n",
       "      <td>NaN</td>\n",
       "      <td>NaN</td>\n",
       "    </tr>\n",
       "    <tr>\n",
       "      <th>2</th>\n",
       "      <td>NaN</td>\n",
       "      <td>NaN</td>\n",
       "      <td>NaN</td>\n",
       "      <td>NaN</td>\n",
       "    </tr>\n",
       "    <tr>\n",
       "      <th>3</th>\n",
       "      <td>permanent</td>\n",
       "      <td>23000.0</td>\n",
       "      <td>28000.0</td>\n",
       "      <td>pln</td>\n",
       "    </tr>\n",
       "    <tr>\n",
       "      <th>4</th>\n",
       "      <td>permanent</td>\n",
       "      <td>18000.0</td>\n",
       "      <td>23000.0</td>\n",
       "      <td>pln</td>\n",
       "    </tr>\n",
       "  </tbody>\n",
       "</table>\n",
       "</div>"
      ],
      "text/plain": [
       "        type     from       to currency\n",
       "0        NaN      NaN      NaN      NaN\n",
       "1        NaN      NaN      NaN      NaN\n",
       "2        NaN      NaN      NaN      NaN\n",
       "3  permanent  23000.0  28000.0      pln\n",
       "4  permanent  18000.0  23000.0      pln"
      ]
     },
     "execution_count": 20,
     "metadata": {},
     "output_type": "execute_result"
    }
   ],
   "source": [
    "df_emplyment_types_2.head()"
   ]
  },
  {
   "cell_type": "code",
   "execution_count": 21,
   "metadata": {
    "id": "-rVqMcevnITg"
   },
   "outputs": [],
   "source": [
    "#df3 = pd.get_dummies(df3)\n",
    "#df4 = pd.get_dummies(df4)"
   ]
  },
  {
   "cell_type": "code",
   "execution_count": 22,
   "metadata": {
    "id": "EJcxG8tE1ehC"
   },
   "outputs": [],
   "source": [
    "#df5 = pd.concat([df3, df4])"
   ]
  },
  {
   "cell_type": "code",
   "execution_count": 23,
   "metadata": {
    "colab": {
     "base_uri": "https://localhost:8080/"
    },
    "id": "bm9QRsSvL3Rj",
    "outputId": "cf678010-f119-452c-e162-2e0cdad034e3"
   },
   "outputs": [
    {
     "name": "stdout",
     "output_type": "stream",
     "text": [
      "0    Architekt Systemowy Aplikacji IT\n",
      "1               Junior .Net Developer\n",
      "2                       SAS DEVELOPER\n",
      "3               Architekt systemów IT\n",
      "4                Senior PHP Developer\n",
      "Name: title, dtype: object\n",
      "0          Chmielna 89\n",
      "1    ul. Józefa Sarego\n",
      "2          Chmielna 89\n",
      "3              Centrum\n",
      "4           Dworcowa 2\n",
      "Name: street, dtype: object\n",
      "0    Warszawa\n",
      "1      Kraków\n",
      "2    Warszawa\n",
      "3    Szczecin\n",
      "4    Katowice\n",
      "Name: city, dtype: object\n",
      "0    PL\n",
      "1    PL\n",
      "2    PL\n",
      "3    PL\n",
      "4    PL\n",
      "Name: country_code, dtype: object\n",
      "0        Chmielna 89, Warszawa\n",
      "1    ul. Józefa Sarego, Kraków\n",
      "2        Chmielna 89, Warszawa\n",
      "3            Centrum, Szczecin\n",
      "4         Dworcowa 2, Katowice\n",
      "Name: address_text, dtype: object\n",
      "0    architecture\n",
      "1             net\n",
      "2           other\n",
      "3            java\n",
      "4             php\n",
      "Name: marker_icon, dtype: object\n",
      "0    partly_remote\n",
      "1    partly_remote\n",
      "2    partly_remote\n",
      "3           remote\n",
      "4    partly_remote\n",
      "Name: workplace_type, dtype: object\n",
      "0               PKO Bank Polski\n",
      "1    Adrentech Polska Sp. z o.o\n",
      "2               PKO Bank Polski\n",
      "3                           XTB\n",
      "4          STATSCORE Sp. z o.o.\n",
      "Name: company_name, dtype: object\n",
      "0    https://www.pkobp.pl/kariera/\n",
      "1       https://www.adrentech.com/\n",
      "2    https://www.pkobp.pl/kariera/\n",
      "3           https://www.xtb.com/pl\n",
      "4       https://www.statscore.com/\n",
      "Name: company_url, dtype: object\n",
      "0    22000\n",
      "1      50+\n",
      "2    22000\n",
      "3     500+\n",
      "4       80\n",
      "Name: company_size, dtype: object\n",
      "0    senior\n",
      "1    junior\n",
      "2       mid\n",
      "3       mid\n",
      "4    senior\n",
      "Name: experience_level, dtype: object\n",
      "0    52.2269597\n",
      "1    50.0567669\n",
      "2    52.2269597\n",
      "3    53.4330206\n",
      "4    50.2572211\n",
      "Name: latitude, dtype: object\n",
      "0    20.9921147\n",
      "1    19.9427828\n",
      "2    20.9921147\n",
      "3    14.5483543\n",
      "4    19.0242396\n",
      "Name: longitude, dtype: object\n",
      "0    2023-07-19T19:21:55.256Z\n",
      "1    2023-07-19T19:09:35.839Z\n",
      "2    2023-07-19T19:06:40.726Z\n",
      "3    2023-07-19T19:00:11.847Z\n",
      "4    2023-07-19T19:00:11.847Z\n",
      "Name: published_at, dtype: object\n",
      "0     True\n",
      "1    False\n",
      "2     True\n",
      "3     True\n",
      "4     True\n",
      "Name: remote_interview, dtype: bool\n",
      "0    False\n",
      "1    False\n",
      "2    False\n",
      "3    False\n",
      "4    False\n",
      "Name: open_to_hire_ukrainians, dtype: bool\n",
      "0     pko-bank-polski-architekt-systemowy-aplikacji-it\n",
      "1            adrenaline-technologies-ltd-net-developer\n",
      "2                        pko-bank-polski-sas-developer\n",
      "3    xtb-architekt-systemow-it-ab8649bb-ed69-4c90-8...\n",
      "4     statscore-sp-z-o-o-senior-php-developer-katowice\n",
      "Name: id, dtype: object\n",
      "0    True\n",
      "1    True\n",
      "2    True\n",
      "3    True\n",
      "4    True\n",
      "Name: display_offer, dtype: bool\n",
      "0              [{'type': 'permanent', 'salary': None}]\n",
      "1    [{'type': 'b2b', 'salary': {'from': 8000, 'to'...\n",
      "2              [{'type': 'permanent', 'salary': None}]\n",
      "3    [{'type': 'b2b', 'salary': {'from': 25000, 'to...\n",
      "4    [{'type': 'b2b', 'salary': {'from': 19800, 'to...\n",
      "Name: employment_types, dtype: object\n",
      "0    https://bucket.justjoin.it/offers/company_logo...\n",
      "1    https://bucket.justjoin.it/offers/company_logo...\n",
      "2    https://bucket.justjoin.it/offers/company_logo...\n",
      "3    https://bucket.justjoin.it/offers/company_logo...\n",
      "4    https://bucket.justjoin.it/offers/company_logo...\n",
      "Name: company_logo_url, dtype: object\n",
      "0    [{'name': 'RabbitMQ', 'level': 2}, {'name': 'A...\n",
      "1    [{'name': 'MS SQL Server', 'level': 2}, {'name...\n",
      "2    [{'name': 'PL/SQL', 'level': 2}, {'name': '4gl...\n",
      "3    [{'name': 'Spring', 'level': 3}, {'name': 'Mic...\n",
      "4    [{'name': 'Laravel', 'level': 4}, {'name': 'OO...\n",
      "Name: skills, dtype: object\n",
      "0    False\n",
      "1    False\n",
      "2    False\n",
      "3     True\n",
      "4    False\n",
      "Name: remote, dtype: bool\n",
      "0    [{'city': 'Warszawa', 'street': 'Chmielna 89',...\n",
      "1    [{'city': 'Kraków', 'street': 'ul. Józefa Sare...\n",
      "2    [{'city': 'Warszawa', 'street': 'Chmielna 89',...\n",
      "3    [{'city': 'Szczecin', 'slug': 'xtb-architekt-s...\n",
      "4    [{'city': 'Katowice', 'street': 'Dworcowa 2', ...\n",
      "Name: multilocation, dtype: object\n",
      "0    redirect\n",
      "1        form\n",
      "2    redirect\n",
      "3    redirect\n",
      "4    redirect\n",
      "Name: way_of_apply, dtype: object\n"
     ]
    }
   ],
   "source": [
    "columns = df.columns\n",
    "for column in columns:\n",
    "  print(df[column][0:5])\n"
   ]
  },
  {
   "cell_type": "code",
   "execution_count": 24,
   "metadata": {
    "colab": {
     "base_uri": "https://localhost:8080/"
    },
    "id": "z1Q17XKxSVi-",
    "outputId": "0e0aeaaa-5089-4309-d4b2-3f78ba6c96a3"
   },
   "outputs": [
    {
     "data": {
      "text/plain": [
       "[{'name': 'Active Directory', 'level': 4},\n",
       " {'name': 'VMware', 'level': 4},\n",
       " {'name': 'Microsoft Windows', 'level': 4}]"
      ]
     },
     "execution_count": 24,
     "metadata": {},
     "output_type": "execute_result"
    }
   ],
   "source": [
    "df['skills'][100]"
   ]
  },
  {
   "cell_type": "code",
   "execution_count": 25,
   "metadata": {
    "id": "03A8EO1JSHaC"
   },
   "outputs": [],
   "source": [
    "# df_skills = df['skills'].apply(pd.Series)\n",
    "\n",
    "# df_skills_0 = df_skills[0].apply(pd.Series)\n",
    "# df_skills_1 = df_skills[1].apply(pd.Series)\n",
    "# df_skills_2 = df_skills[2].apply(pd.Series)"
   ]
  },
  {
   "cell_type": "markdown",
   "metadata": {
    "id": "JFrXSUDNigN8"
   },
   "source": [
    "Notatka: nie mam totalnie pojęcia jak to zrobić, żeby było dobrze"
   ]
  },
  {
   "cell_type": "code",
   "execution_count": 26,
   "metadata": {
    "id": "DLkj6waFjUhO"
   },
   "outputs": [],
   "source": [
    "# df_skills_0 = pd.get_dummies(df_skills_0)"
   ]
  },
  {
   "cell_type": "code",
   "execution_count": 27,
   "metadata": {
    "colab": {
     "base_uri": "https://localhost:8080/",
     "height": 334
    },
    "id": "WtrhTTt4jf0Z",
    "outputId": "120a5d84-b981-4626-8710-f4b8db7c0d57"
   },
   "outputs": [],
   "source": [
    "# df_skills_0.head()"
   ]
  },
  {
   "cell_type": "code",
   "execution_count": 28,
   "metadata": {
    "colab": {
     "base_uri": "https://localhost:8080/"
    },
    "id": "1JrcHoXNjtM7",
    "outputId": "743125a4-4a56-4a84-c340-cff7ac1853b6"
   },
   "outputs": [],
   "source": [
    "# columns = df_skills_0.columns\n",
    "\n",
    "# for col in columns:\n",
    "#   for i in range(len(df_skills_0)):\n",
    "#     if df_skills_0[col][i] == 1:\n",
    "#       df_skills_0[col][i] = df_skills_0['level'][i]\n"
   ]
  },
  {
   "cell_type": "code",
   "execution_count": 29,
   "metadata": {
    "colab": {
     "base_uri": "https://localhost:8080/",
     "height": 522
    },
    "id": "dCbTrKxAk0JC",
    "outputId": "cc24f973-d637-488e-b654-10c179c56cc4"
   },
   "outputs": [],
   "source": [
    "# df_skills_0.head(100)"
   ]
  },
  {
   "cell_type": "code",
   "execution_count": 30,
   "metadata": {
    "id": "S2_ai93TKFPt"
   },
   "outputs": [],
   "source": [
    "df_reduced = df.drop(['employment_types'], axis=1)"
   ]
  },
  {
   "cell_type": "code",
   "execution_count": 31,
   "metadata": {
    "id": "PcVWENn_NyoZ"
   },
   "outputs": [],
   "source": [
    "# OK I've done stuff around emloyment types lets take the rest of varables\n",
    "\n",
    "df1 = df_reduced.merge(df_emplyment_types_l, left_index=True, right_index=True)\n",
    "df2 = df_reduced.merge(df_emplyment_types_2, left_index=True, right_index=True)"
   ]
  },
  {
   "cell_type": "code",
   "execution_count": 32,
   "metadata": {
    "id": "YganPUUWQGX-"
   },
   "outputs": [],
   "source": [
    "result_df = pd.concat([df1, df2])\n"
   ]
  },
  {
   "cell_type": "code",
   "execution_count": 33,
   "metadata": {
    "colab": {
     "base_uri": "https://localhost:8080/",
     "height": 1000
    },
    "id": "edq-5oWhnNwH",
    "outputId": "e0a87ea6-f04a-4b13-e9b5-9d1c0bd27fd3"
   },
   "outputs": [
    {
     "data": {
      "text/html": [
       "<div>\n",
       "<style scoped>\n",
       "    .dataframe tbody tr th:only-of-type {\n",
       "        vertical-align: middle;\n",
       "    }\n",
       "\n",
       "    .dataframe tbody tr th {\n",
       "        vertical-align: top;\n",
       "    }\n",
       "\n",
       "    .dataframe thead th {\n",
       "        text-align: right;\n",
       "    }\n",
       "</style>\n",
       "<table border=\"1\" class=\"dataframe\">\n",
       "  <thead>\n",
       "    <tr style=\"text-align: right;\">\n",
       "      <th></th>\n",
       "      <th>title</th>\n",
       "      <th>street</th>\n",
       "      <th>city</th>\n",
       "      <th>country_code</th>\n",
       "      <th>address_text</th>\n",
       "      <th>marker_icon</th>\n",
       "      <th>workplace_type</th>\n",
       "      <th>company_name</th>\n",
       "      <th>company_url</th>\n",
       "      <th>company_size</th>\n",
       "      <th>...</th>\n",
       "      <th>display_offer</th>\n",
       "      <th>company_logo_url</th>\n",
       "      <th>skills</th>\n",
       "      <th>remote</th>\n",
       "      <th>multilocation</th>\n",
       "      <th>way_of_apply</th>\n",
       "      <th>type</th>\n",
       "      <th>from</th>\n",
       "      <th>to</th>\n",
       "      <th>currency</th>\n",
       "    </tr>\n",
       "  </thead>\n",
       "  <tbody>\n",
       "    <tr>\n",
       "      <th>0</th>\n",
       "      <td>Architekt Systemowy Aplikacji IT</td>\n",
       "      <td>Chmielna 89</td>\n",
       "      <td>Warszawa</td>\n",
       "      <td>PL</td>\n",
       "      <td>Chmielna 89, Warszawa</td>\n",
       "      <td>architecture</td>\n",
       "      <td>partly_remote</td>\n",
       "      <td>PKO Bank Polski</td>\n",
       "      <td>https://www.pkobp.pl/kariera/</td>\n",
       "      <td>22000</td>\n",
       "      <td>...</td>\n",
       "      <td>True</td>\n",
       "      <td>https://bucket.justjoin.it/offers/company_logo...</td>\n",
       "      <td>[{'name': 'RabbitMQ', 'level': 2}, {'name': 'A...</td>\n",
       "      <td>False</td>\n",
       "      <td>[{'city': 'Warszawa', 'street': 'Chmielna 89',...</td>\n",
       "      <td>redirect</td>\n",
       "      <td>permanent</td>\n",
       "      <td>NaN</td>\n",
       "      <td>NaN</td>\n",
       "      <td>NaN</td>\n",
       "    </tr>\n",
       "    <tr>\n",
       "      <th>1</th>\n",
       "      <td>Junior .Net Developer</td>\n",
       "      <td>ul. Józefa Sarego</td>\n",
       "      <td>Kraków</td>\n",
       "      <td>PL</td>\n",
       "      <td>ul. Józefa Sarego, Kraków</td>\n",
       "      <td>net</td>\n",
       "      <td>partly_remote</td>\n",
       "      <td>Adrentech Polska Sp. z o.o</td>\n",
       "      <td>https://www.adrentech.com/</td>\n",
       "      <td>50+</td>\n",
       "      <td>...</td>\n",
       "      <td>True</td>\n",
       "      <td>https://bucket.justjoin.it/offers/company_logo...</td>\n",
       "      <td>[{'name': 'MS SQL Server', 'level': 2}, {'name...</td>\n",
       "      <td>False</td>\n",
       "      <td>[{'city': 'Kraków', 'street': 'ul. Józefa Sare...</td>\n",
       "      <td>form</td>\n",
       "      <td>b2b</td>\n",
       "      <td>8000.0</td>\n",
       "      <td>12000.0</td>\n",
       "      <td>pln</td>\n",
       "    </tr>\n",
       "    <tr>\n",
       "      <th>2</th>\n",
       "      <td>SAS DEVELOPER</td>\n",
       "      <td>Chmielna 89</td>\n",
       "      <td>Warszawa</td>\n",
       "      <td>PL</td>\n",
       "      <td>Chmielna 89, Warszawa</td>\n",
       "      <td>other</td>\n",
       "      <td>partly_remote</td>\n",
       "      <td>PKO Bank Polski</td>\n",
       "      <td>https://www.pkobp.pl/kariera/</td>\n",
       "      <td>22000</td>\n",
       "      <td>...</td>\n",
       "      <td>True</td>\n",
       "      <td>https://bucket.justjoin.it/offers/company_logo...</td>\n",
       "      <td>[{'name': 'PL/SQL', 'level': 2}, {'name': '4gl...</td>\n",
       "      <td>False</td>\n",
       "      <td>[{'city': 'Warszawa', 'street': 'Chmielna 89',...</td>\n",
       "      <td>redirect</td>\n",
       "      <td>permanent</td>\n",
       "      <td>NaN</td>\n",
       "      <td>NaN</td>\n",
       "      <td>NaN</td>\n",
       "    </tr>\n",
       "    <tr>\n",
       "      <th>3</th>\n",
       "      <td>Architekt systemów IT</td>\n",
       "      <td>Centrum</td>\n",
       "      <td>Szczecin</td>\n",
       "      <td>PL</td>\n",
       "      <td>Centrum, Szczecin</td>\n",
       "      <td>java</td>\n",
       "      <td>remote</td>\n",
       "      <td>XTB</td>\n",
       "      <td>https://www.xtb.com/pl</td>\n",
       "      <td>500+</td>\n",
       "      <td>...</td>\n",
       "      <td>True</td>\n",
       "      <td>https://bucket.justjoin.it/offers/company_logo...</td>\n",
       "      <td>[{'name': 'Spring', 'level': 3}, {'name': 'Mic...</td>\n",
       "      <td>True</td>\n",
       "      <td>[{'city': 'Szczecin', 'slug': 'xtb-architekt-s...</td>\n",
       "      <td>redirect</td>\n",
       "      <td>b2b</td>\n",
       "      <td>25000.0</td>\n",
       "      <td>30000.0</td>\n",
       "      <td>pln</td>\n",
       "    </tr>\n",
       "    <tr>\n",
       "      <th>4</th>\n",
       "      <td>Senior PHP Developer</td>\n",
       "      <td>Dworcowa 2</td>\n",
       "      <td>Katowice</td>\n",
       "      <td>PL</td>\n",
       "      <td>Dworcowa 2, Katowice</td>\n",
       "      <td>php</td>\n",
       "      <td>partly_remote</td>\n",
       "      <td>STATSCORE Sp. z o.o.</td>\n",
       "      <td>https://www.statscore.com/</td>\n",
       "      <td>80</td>\n",
       "      <td>...</td>\n",
       "      <td>True</td>\n",
       "      <td>https://bucket.justjoin.it/offers/company_logo...</td>\n",
       "      <td>[{'name': 'Laravel', 'level': 4}, {'name': 'OO...</td>\n",
       "      <td>False</td>\n",
       "      <td>[{'city': 'Katowice', 'street': 'Dworcowa 2', ...</td>\n",
       "      <td>redirect</td>\n",
       "      <td>b2b</td>\n",
       "      <td>19800.0</td>\n",
       "      <td>25300.0</td>\n",
       "      <td>pln</td>\n",
       "    </tr>\n",
       "    <tr>\n",
       "      <th>...</th>\n",
       "      <td>...</td>\n",
       "      <td>...</td>\n",
       "      <td>...</td>\n",
       "      <td>...</td>\n",
       "      <td>...</td>\n",
       "      <td>...</td>\n",
       "      <td>...</td>\n",
       "      <td>...</td>\n",
       "      <td>...</td>\n",
       "      <td>...</td>\n",
       "      <td>...</td>\n",
       "      <td>...</td>\n",
       "      <td>...</td>\n",
       "      <td>...</td>\n",
       "      <td>...</td>\n",
       "      <td>...</td>\n",
       "      <td>...</td>\n",
       "      <td>...</td>\n",
       "      <td>...</td>\n",
       "      <td>...</td>\n",
       "      <td>...</td>\n",
       "    </tr>\n",
       "    <tr>\n",
       "      <th>13262</th>\n",
       "      <td>Mid Python Developer</td>\n",
       "      <td>Centrum</td>\n",
       "      <td>Gdańsk</td>\n",
       "      <td>PL</td>\n",
       "      <td>Centrum, Gdańsk</td>\n",
       "      <td>python</td>\n",
       "      <td>remote</td>\n",
       "      <td>Mindpal</td>\n",
       "      <td>https://skygate.io</td>\n",
       "      <td>50 - 100</td>\n",
       "      <td>...</td>\n",
       "      <td>False</td>\n",
       "      <td>https://bucket.justjoin.it/offers/company_logo...</td>\n",
       "      <td>[{'name': 'Django', 'level': 2}, {'name': 'Git...</td>\n",
       "      <td>True</td>\n",
       "      <td>[{'city': 'Gdańsk', 'street': 'Centrum', 'slug...</td>\n",
       "      <td>redirect</td>\n",
       "      <td>NaN</td>\n",
       "      <td>NaN</td>\n",
       "      <td>NaN</td>\n",
       "      <td>NaN</td>\n",
       "    </tr>\n",
       "    <tr>\n",
       "      <th>13263</th>\n",
       "      <td>Mid Python Developer</td>\n",
       "      <td>Centrum</td>\n",
       "      <td>Warszawa</td>\n",
       "      <td>PL</td>\n",
       "      <td>Centrum, Warszawa</td>\n",
       "      <td>python</td>\n",
       "      <td>remote</td>\n",
       "      <td>Mindpal</td>\n",
       "      <td>https://skygate.io</td>\n",
       "      <td>50 - 100</td>\n",
       "      <td>...</td>\n",
       "      <td>False</td>\n",
       "      <td>https://bucket.justjoin.it/offers/company_logo...</td>\n",
       "      <td>[{'name': 'Django', 'level': 2}, {'name': 'Git...</td>\n",
       "      <td>True</td>\n",
       "      <td>[{'city': 'Warszawa', 'street': 'Centrum', 'sl...</td>\n",
       "      <td>redirect</td>\n",
       "      <td>NaN</td>\n",
       "      <td>NaN</td>\n",
       "      <td>NaN</td>\n",
       "      <td>NaN</td>\n",
       "    </tr>\n",
       "    <tr>\n",
       "      <th>13264</th>\n",
       "      <td>Mid Python Developer</td>\n",
       "      <td>Centrum</td>\n",
       "      <td>Poznań</td>\n",
       "      <td>PL</td>\n",
       "      <td>Centrum, Poznań</td>\n",
       "      <td>python</td>\n",
       "      <td>remote</td>\n",
       "      <td>Mindpal</td>\n",
       "      <td>https://skygate.io</td>\n",
       "      <td>50 - 100</td>\n",
       "      <td>...</td>\n",
       "      <td>False</td>\n",
       "      <td>https://bucket.justjoin.it/offers/company_logo...</td>\n",
       "      <td>[{'name': 'Django', 'level': 2}, {'name': 'Git...</td>\n",
       "      <td>True</td>\n",
       "      <td>[{'city': 'Poznań', 'street': 'Centrum', 'slug...</td>\n",
       "      <td>redirect</td>\n",
       "      <td>NaN</td>\n",
       "      <td>NaN</td>\n",
       "      <td>NaN</td>\n",
       "      <td>NaN</td>\n",
       "    </tr>\n",
       "    <tr>\n",
       "      <th>13265</th>\n",
       "      <td>Mid Python Developer</td>\n",
       "      <td>Centrum</td>\n",
       "      <td>Wrocław</td>\n",
       "      <td>PL</td>\n",
       "      <td>Centrum, Wrocław</td>\n",
       "      <td>python</td>\n",
       "      <td>remote</td>\n",
       "      <td>Mindpal</td>\n",
       "      <td>https://skygate.io</td>\n",
       "      <td>50 - 100</td>\n",
       "      <td>...</td>\n",
       "      <td>False</td>\n",
       "      <td>https://bucket.justjoin.it/offers/company_logo...</td>\n",
       "      <td>[{'name': 'Django', 'level': 2}, {'name': 'Git...</td>\n",
       "      <td>True</td>\n",
       "      <td>[{'city': 'Wrocław', 'street': 'Centrum', 'slu...</td>\n",
       "      <td>redirect</td>\n",
       "      <td>NaN</td>\n",
       "      <td>NaN</td>\n",
       "      <td>NaN</td>\n",
       "      <td>NaN</td>\n",
       "    </tr>\n",
       "    <tr>\n",
       "      <th>13266</th>\n",
       "      <td>Angular Developer</td>\n",
       "      <td>Centrum</td>\n",
       "      <td>Gdańsk</td>\n",
       "      <td>PL</td>\n",
       "      <td>Centrum, Gdańsk</td>\n",
       "      <td>javascript</td>\n",
       "      <td>partly_remote</td>\n",
       "      <td>Devire</td>\n",
       "      <td>http://devire.pl</td>\n",
       "      <td>250+</td>\n",
       "      <td>...</td>\n",
       "      <td>False</td>\n",
       "      <td>https://bucket.justjoin.it/offers/company_logo...</td>\n",
       "      <td>[{'name': 'JavaScript', 'level': 3}, {'name': ...</td>\n",
       "      <td>False</td>\n",
       "      <td>[{'city': 'Gdańsk', 'street': 'Centrum', 'slug...</td>\n",
       "      <td>redirect</td>\n",
       "      <td>NaN</td>\n",
       "      <td>NaN</td>\n",
       "      <td>NaN</td>\n",
       "      <td>NaN</td>\n",
       "    </tr>\n",
       "  </tbody>\n",
       "</table>\n",
       "<p>26534 rows × 27 columns</p>\n",
       "</div>"
      ],
      "text/plain": [
       "                                  title             street      city  \\\n",
       "0      Architekt Systemowy Aplikacji IT        Chmielna 89  Warszawa   \n",
       "1                 Junior .Net Developer  ul. Józefa Sarego    Kraków   \n",
       "2                         SAS DEVELOPER        Chmielna 89  Warszawa   \n",
       "3                 Architekt systemów IT            Centrum  Szczecin   \n",
       "4                  Senior PHP Developer         Dworcowa 2  Katowice   \n",
       "...                                 ...                ...       ...   \n",
       "13262              Mid Python Developer            Centrum    Gdańsk   \n",
       "13263              Mid Python Developer            Centrum  Warszawa   \n",
       "13264              Mid Python Developer            Centrum    Poznań   \n",
       "13265              Mid Python Developer            Centrum   Wrocław   \n",
       "13266                 Angular Developer            Centrum    Gdańsk   \n",
       "\n",
       "      country_code               address_text   marker_icon workplace_type  \\\n",
       "0               PL      Chmielna 89, Warszawa  architecture  partly_remote   \n",
       "1               PL  ul. Józefa Sarego, Kraków           net  partly_remote   \n",
       "2               PL      Chmielna 89, Warszawa         other  partly_remote   \n",
       "3               PL          Centrum, Szczecin          java         remote   \n",
       "4               PL       Dworcowa 2, Katowice           php  partly_remote   \n",
       "...            ...                        ...           ...            ...   \n",
       "13262           PL            Centrum, Gdańsk        python         remote   \n",
       "13263           PL          Centrum, Warszawa        python         remote   \n",
       "13264           PL            Centrum, Poznań        python         remote   \n",
       "13265           PL           Centrum, Wrocław        python         remote   \n",
       "13266           PL            Centrum, Gdańsk    javascript  partly_remote   \n",
       "\n",
       "                     company_name                    company_url company_size  \\\n",
       "0                 PKO Bank Polski  https://www.pkobp.pl/kariera/        22000   \n",
       "1      Adrentech Polska Sp. z o.o     https://www.adrentech.com/          50+   \n",
       "2                 PKO Bank Polski  https://www.pkobp.pl/kariera/        22000   \n",
       "3                             XTB         https://www.xtb.com/pl         500+   \n",
       "4            STATSCORE Sp. z o.o.     https://www.statscore.com/           80   \n",
       "...                           ...                            ...          ...   \n",
       "13262                     Mindpal             https://skygate.io     50 - 100   \n",
       "13263                     Mindpal             https://skygate.io     50 - 100   \n",
       "13264                     Mindpal             https://skygate.io     50 - 100   \n",
       "13265                     Mindpal             https://skygate.io     50 - 100   \n",
       "13266                      Devire               http://devire.pl         250+   \n",
       "\n",
       "       ... display_offer                                   company_logo_url  \\\n",
       "0      ...          True  https://bucket.justjoin.it/offers/company_logo...   \n",
       "1      ...          True  https://bucket.justjoin.it/offers/company_logo...   \n",
       "2      ...          True  https://bucket.justjoin.it/offers/company_logo...   \n",
       "3      ...          True  https://bucket.justjoin.it/offers/company_logo...   \n",
       "4      ...          True  https://bucket.justjoin.it/offers/company_logo...   \n",
       "...    ...           ...                                                ...   \n",
       "13262  ...         False  https://bucket.justjoin.it/offers/company_logo...   \n",
       "13263  ...         False  https://bucket.justjoin.it/offers/company_logo...   \n",
       "13264  ...         False  https://bucket.justjoin.it/offers/company_logo...   \n",
       "13265  ...         False  https://bucket.justjoin.it/offers/company_logo...   \n",
       "13266  ...         False  https://bucket.justjoin.it/offers/company_logo...   \n",
       "\n",
       "                                                  skills remote  \\\n",
       "0      [{'name': 'RabbitMQ', 'level': 2}, {'name': 'A...  False   \n",
       "1      [{'name': 'MS SQL Server', 'level': 2}, {'name...  False   \n",
       "2      [{'name': 'PL/SQL', 'level': 2}, {'name': '4gl...  False   \n",
       "3      [{'name': 'Spring', 'level': 3}, {'name': 'Mic...   True   \n",
       "4      [{'name': 'Laravel', 'level': 4}, {'name': 'OO...  False   \n",
       "...                                                  ...    ...   \n",
       "13262  [{'name': 'Django', 'level': 2}, {'name': 'Git...   True   \n",
       "13263  [{'name': 'Django', 'level': 2}, {'name': 'Git...   True   \n",
       "13264  [{'name': 'Django', 'level': 2}, {'name': 'Git...   True   \n",
       "13265  [{'name': 'Django', 'level': 2}, {'name': 'Git...   True   \n",
       "13266  [{'name': 'JavaScript', 'level': 3}, {'name': ...  False   \n",
       "\n",
       "                                           multilocation  way_of_apply  \\\n",
       "0      [{'city': 'Warszawa', 'street': 'Chmielna 89',...      redirect   \n",
       "1      [{'city': 'Kraków', 'street': 'ul. Józefa Sare...          form   \n",
       "2      [{'city': 'Warszawa', 'street': 'Chmielna 89',...      redirect   \n",
       "3      [{'city': 'Szczecin', 'slug': 'xtb-architekt-s...      redirect   \n",
       "4      [{'city': 'Katowice', 'street': 'Dworcowa 2', ...      redirect   \n",
       "...                                                  ...           ...   \n",
       "13262  [{'city': 'Gdańsk', 'street': 'Centrum', 'slug...      redirect   \n",
       "13263  [{'city': 'Warszawa', 'street': 'Centrum', 'sl...      redirect   \n",
       "13264  [{'city': 'Poznań', 'street': 'Centrum', 'slug...      redirect   \n",
       "13265  [{'city': 'Wrocław', 'street': 'Centrum', 'slu...      redirect   \n",
       "13266  [{'city': 'Gdańsk', 'street': 'Centrum', 'slug...      redirect   \n",
       "\n",
       "            type     from       to currency  \n",
       "0      permanent      NaN      NaN      NaN  \n",
       "1            b2b   8000.0  12000.0      pln  \n",
       "2      permanent      NaN      NaN      NaN  \n",
       "3            b2b  25000.0  30000.0      pln  \n",
       "4            b2b  19800.0  25300.0      pln  \n",
       "...          ...      ...      ...      ...  \n",
       "13262        NaN      NaN      NaN      NaN  \n",
       "13263        NaN      NaN      NaN      NaN  \n",
       "13264        NaN      NaN      NaN      NaN  \n",
       "13265        NaN      NaN      NaN      NaN  \n",
       "13266        NaN      NaN      NaN      NaN  \n",
       "\n",
       "[26534 rows x 27 columns]"
      ]
     },
     "execution_count": 33,
     "metadata": {},
     "output_type": "execute_result"
    }
   ],
   "source": [
    "result_df"
   ]
  },
  {
   "cell_type": "code",
   "execution_count": 34,
   "metadata": {},
   "outputs": [],
   "source": [
    "from pathlib import Path  \n",
    "filepath = Path('/Users/dawidmarszalik/Bootcamp Data Science/Uczenie nadzorowane/Untitled Folder/just_join_it.csv')  \n",
    "filepath.parent.mkdir(parents=True, exist_ok=True)  \n",
    "df.to_csv(filepath)  "
   ]
  }
 ],
 "metadata": {
  "colab": {
   "provenance": []
  },
  "kernelspec": {
   "display_name": "Python 3 (ipykernel)",
   "language": "python",
   "name": "python3"
  },
  "language_info": {
   "codemirror_mode": {
    "name": "ipython",
    "version": 3
   },
   "file_extension": ".py",
   "mimetype": "text/x-python",
   "name": "python",
   "nbconvert_exporter": "python",
   "pygments_lexer": "ipython3",
   "version": "3.10.9"
  }
 },
 "nbformat": 4,
 "nbformat_minor": 1
}
